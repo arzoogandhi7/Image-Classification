{
  "cells": [
    {
      "cell_type": "markdown",
      "metadata": {
        "id": "view-in-github",
        "colab_type": "text"
      },
      "source": [
        "<a href=\"https://colab.research.google.com/github/arzoogandhi7/Visual-object-analyzer/blob/main/image_classification.ipynb\" target=\"_parent\"><img src=\"https://colab.research.google.com/assets/colab-badge.svg\" alt=\"Open In Colab\"/></a>"
      ]
    },
    {
      "cell_type": "code",
      "execution_count": null,
      "metadata": {
        "id": "zvFRzAc0x2JZ"
      },
      "outputs": [],
      "source": [
        "import tensorflow as tf\n",
        "from tensorflow.keras import datasets, layers, models\n",
        "import matplotlib.pyplot as plt\n",
        "import numpy as np"
      ]
    },
    {
      "cell_type": "code",
      "execution_count": null,
      "metadata": {
        "colab": {
          "base_uri": "https://localhost:8080/"
        },
        "id": "XIK-ZC02yo3M",
        "outputId": "2b4a79c7-8ef6-4e85-d44c-6e7eff734f62"
      },
      "outputs": [
        {
          "data": {
            "text/plain": [
              "(50000, 32, 32, 3)"
            ]
          },
          "execution_count": 55,
          "metadata": {},
          "output_type": "execute_result"
        }
      ],
      "source": [
        "(X_train, y_train), (X_test, y_test) = datasets.cifar10.load_data()\n",
        "X_train.shape"
      ]
    },
    {
      "cell_type": "code",
      "execution_count": null,
      "metadata": {
        "colab": {
          "base_uri": "https://localhost:8080/"
        },
        "id": "dMSsCqhPy1aj",
        "outputId": "9045103d-d964-4e8a-fcf5-4b037edc0c09"
      },
      "outputs": [
        {
          "data": {
            "text/plain": [
              "(10000, 32, 32, 3)"
            ]
          },
          "execution_count": 56,
          "metadata": {},
          "output_type": "execute_result"
        }
      ],
      "source": [
        "X_test.shape"
      ]
    },
    {
      "cell_type": "code",
      "execution_count": null,
      "metadata": {
        "id": "MoYHmLJfzKKe"
      },
      "outputs": [],
      "source": [
        "X_train[0]"
      ]
    },
    {
      "cell_type": "code",
      "execution_count": null,
      "metadata": {
        "colab": {
          "base_uri": "https://localhost:8080/",
          "height": 235
        },
        "id": "K4KRMYZK05cl",
        "outputId": "f6842939-0d38-458e-9841-17bbce75be2a"
      },
      "outputs": [
        {
          "data": {
            "text/plain": [
              "<matplotlib.image.AxesImage at 0x78304c121000>"
            ]
          },
          "execution_count": 58,
          "metadata": {},
          "output_type": "execute_result"
        },
        {
          "data": {
            "image/png": "[encoded data removed]",
            "text/plain": [
              "<Figure size 1500x200 with 1 Axes>"
            ]
          },
          "metadata": {},
          "output_type": "display_data"
        }
      ],
      "source": [
        "plt.figure(figsize = (15,2))\n",
        "plt.imshow(X_train[0])"
      ]
    },
    {
      "cell_type": "code",
      "execution_count": null,
      "metadata": {
        "colab": {
          "base_uri": "https://localhost:8080/",
          "height": 235
        },
        "id": "7BVCpbf40-7H",
        "outputId": "0f06fe50-cb26-40fe-ef55-2ed9b72da191"
      },
      "outputs": [
        {
          "data": {
            "text/plain": [
              "<matplotlib.image.AxesImage at 0x78304c182b60>"
            ]
          },
          "execution_count": 59,
          "metadata": {},
          "output_type": "execute_result"
        },
        {
          "data": {
            "image/png": "[encoded data removed]",
            "text/plain": [
              "<Figure size 1500x200 with 1 Axes>"
            ]
          },
          "metadata": {},
          "output_type": "display_data"
        }
      ],
      "source": [
        "plt.figure(figsize = (15,2))\n",
        "plt.imshow(X_train[1])"
      ]
    },
    {
      "cell_type": "code",
      "execution_count": null,
      "metadata": {
        "id": "JPrtm7p82fO9"
      },
      "outputs": [],
      "source": [
        "classes = [\"airplane\", \"automobile\", \"bird\", \"cat\", \"deer\", \"dog\", \"frog\", \"horse\", \"ship\", \"truck\" ]"
      ]
    },
    {
      "cell_type": "code",
      "execution_count": null,
      "metadata": {
        "colab": {
          "base_uri": "https://localhost:8080/"
        },
        "id": "td3hbe4L6C01",
        "outputId": "987b6a6d-59f5-43c6-8b4f-26f6495c727b"
      },
      "outputs": [
        {
          "data": {
            "text/plain": [
              "array([[6],\n",
              "       [9],\n",
              "       [9],\n",
              "       [4],\n",
              "       [1]], dtype=uint8)"
            ]
          },
          "execution_count": 61,
          "metadata": {},
          "output_type": "execute_result"
        }
      ],
      "source": [
        "y_train[:5]"
      ]
    },
    {
      "cell_type": "code",
      "execution_count": null,
      "metadata": {
        "colab": {
          "base_uri": "https://localhost:8080/"
        },
        "id": "co5sxMrG6DrA",
        "outputId": "b4547258-0490-4bc2-b293-993317b41a90"
      },
      "outputs": [
        {
          "data": {
            "text/plain": [
              "array([6, 9, 9, 4, 1], dtype=uint8)"
            ]
          },
          "execution_count": 62,
          "metadata": {},
          "output_type": "execute_result"
        }
      ],
      "source": [
        "y_train = y_train.reshape(-1,)\n",
        "y_train[:5]"
      ]
    },
    {
      "cell_type": "code",
      "execution_count": null,
      "metadata": {
        "id": "gCaOn9O16IYF"
      },
      "outputs": [],
      "source": [
        "def plot_sample(X, y, index):\n",
        "  plt.figure(figsize = (15,2))\n",
        "  plt.imshow(X[index])\n",
        "  plt.xlabel(classes[y[index]])"
      ]
    },
    {
      "cell_type": "code",
      "execution_count": null,
      "metadata": {
        "colab": {
          "base_uri": "https://localhost:8080/",
          "height": 237
        },
        "id": "d1639Pvj6WkB",
        "outputId": "65783457-bf9f-4870-c012-70b1ec76bbe8"
      },
      "outputs": [
        {
          "data": {
            "image/png": "[encoded data removed]",
            "text/plain": [
              "<Figure size 1500x200 with 1 Axes>"
            ]
          },
          "metadata": {},
          "output_type": "display_data"
        }
      ],
      "source": [
        "plot_sample(X_train, y_train, 1)"
      ]
    },
    {
      "cell_type": "code",
      "execution_count": null,
      "metadata": {
        "id": "tteoT2mc669O"
      },
      "outputs": [],
      "source": [
        "X_train = X_train/255                 #divide for normalization so that array lies btn 0 and 1\n",
        "X_test = X_test/255"
      ]
    },
    {
      "cell_type": "code",
      "execution_count": null,
      "metadata": {
        "colab": {
          "base_uri": "https://localhost:8080/"
        },
        "id": "CmRoodzN7Y69",
        "outputId": "7953e98e-1218-4faf-924e-4b4606b854aa"
      },
      "outputs": [
        {
          "name": "stdout",
          "output_type": "stream",
          "text": [
            "Epoch 1/5\n",
            "1563/1563 [==============================] - 142s 90ms/step - loss: 1.8145 - accuracy: 0.3545\n",
            "Epoch 2/5\n",
            "1563/1563 [==============================] - 139s 89ms/step - loss: 1.6232 - accuracy: 0.4277\n",
            "Epoch 3/5\n",
            "1563/1563 [==============================] - 144s 92ms/step - loss: 1.5424 - accuracy: 0.4561\n",
            "Epoch 4/5\n",
            "1563/1563 [==============================] - 139s 89ms/step - loss: 1.4822 - accuracy: 0.4785\n",
            "Epoch 5/5\n",
            "1563/1563 [==============================] - 145s 93ms/step - loss: 1.4317 - accuracy: 0.4951\n"
          ]
        },
        {
          "data": {
            "text/plain": [
              "<keras.src.callbacks.History at 0x78304c120be0>"
            ]
          },
          "execution_count": 66,
          "metadata": {},
          "output_type": "execute_result"
        }
      ],
      "source": [
        "#ANN For image classification\n",
        "ann = models.Sequential([\n",
        "        layers.Flatten(input_shape=(32,32,3)),   #flatter-> first layer with shape 32*32*3 converts 3D->1D(3072)\n",
        "        layers.Dense(3000, activation='relu'),   #deep layer 1 with 3000 neurons\n",
        "        layers.Dense(1000, activation='relu'),   #deep layer 2 with 1000 neurons\n",
        "        layers.Dense(10, activation='sigmoid')    #last layer with 10 categories\n",
        "\n",
        "    ])\n",
        "\n",
        "ann.compile(optimizer='SGD',\n",
        "              loss='sparse_categorical_crossentropy',\n",
        "              metrics=['accuracy'])\n",
        "\n",
        "ann.fit(X_train, y_train, epochs=5)"
      ]
    },
    {
      "cell_type": "code",
      "execution_count": null,
      "metadata": {
        "colab": {
          "base_uri": "https://localhost:8080/"
        },
        "id": "4HBKh5aKAdA5",
        "outputId": "12b5de7c-dc66-404b-cec8-01c8828e48a7"
      },
      "outputs": [
        {
          "name": "stdout",
          "output_type": "stream",
          "text": [
            "313/313 [==============================] - 8s 25ms/step - loss: 1.4455 - accuracy: 0.4864\n"
          ]
        },
        {
          "data": {
            "text/plain": [
              "[1.4455320835113525, 0.4864000082015991]"
            ]
          },
          "execution_count": 79,
          "metadata": {},
          "output_type": "execute_result"
        }
      ],
      "source": [
        "ann.evaluate(X_test,y_test)"
      ]
    },
    {
      "cell_type": "code",
      "execution_count": null,
      "metadata": {
        "colab": {
          "base_uri": "https://localhost:8080/"
        },
        "id": "Up4HKe1LAl7t",
        "outputId": "e07be136-887a-48eb-fcf3-aa976f6a0084"
      },
      "outputs": [
        {
          "name": "stdout",
          "output_type": "stream",
          "text": [
            "313/313 [==============================] - 9s 27ms/step\n",
            "Classification Report: \n",
            "               precision    recall  f1-score   support\n",
            "\n",
            "           0       0.57      0.53      0.55      1000\n",
            "           1       0.69      0.49      0.57      1000\n",
            "           2       0.39      0.36      0.37      1000\n",
            "           3       0.40      0.26      0.32      1000\n",
            "           4       0.53      0.20      0.29      1000\n",
            "           5       0.42      0.38      0.40      1000\n",
            "           6       0.46      0.66      0.54      1000\n",
            "           7       0.43      0.70      0.53      1000\n",
            "           8       0.53      0.69      0.60      1000\n",
            "           9       0.54      0.59      0.56      1000\n",
            "\n",
            "    accuracy                           0.49     10000\n",
            "   macro avg       0.49      0.49      0.47     10000\n",
            "weighted avg       0.49      0.49      0.47     10000\n",
            "\n"
          ]
        }
      ],
      "source": [
        "from sklearn.metrics import confusion_matrix , classification_report\n",
        "import numpy as np\n",
        "y_pred = ann.predict(X_test)\n",
        "y_pred_classes = [np.argmax(element) for element in y_pred]\n",
        "\n",
        "print(\"Classification Report: \\n\", classification_report(y_test, y_pred_classes))"
      ]
    },
    {
      "cell_type": "markdown",
      "metadata": {
        "id": "9MIwYP4PDq-b"
      },
      "source": [
        "Feature Extraction of CNN"
      ]
    },
    {
      "cell_type": "code",
      "execution_count": null,
      "metadata": {
        "id": "2o-C5T8pBMYr"
      },
      "outputs": [],
      "source": [
        "cnn = models.Sequential ([\n",
        "    # cnn\n",
        "    layers.Conv2D(filters=32, kernel_size=(3,3), activation='relu', input_shape=(32,32,3)),\n",
        "    layers.MaxPooling2D((2,2)),\n",
        "    layers. Conv2D(filters=64, kernel_size=(3, 3), activation='relu'),\n",
        "    layers.MaxPooling2D((2, 2)),\n",
        "    # dense\n",
        "    layers.Flatten(),\n",
        "    layers. Dense (64, activation='relu'),\n",
        "    layers. Dense(10, activation='softmax')\n",
        "])"
      ]
    },
    {
      "cell_type": "code",
      "execution_count": null,
      "metadata": {
        "id": "ShWn9Zd8Huz3"
      },
      "outputs": [],
      "source": [
        "cnn.compile(optimizer='adam',\n",
        "               loss= 'sparse_categorical_crossentropy',\n",
        "               metrics=['accuracy'])"
      ]
    },
    {
      "cell_type": "code",
      "execution_count": null,
      "metadata": {
        "colab": {
          "background_save": true,
          "base_uri": "https://localhost:8080/"
        },
        "id": "RLl1SCrU0cag",
        "outputId": "72f5f2c4-be95-40da-81a3-b959e9bec5cd"
      },
      "outputs": [
        {
          "name": "stdout",
          "output_type": "stream",
          "text": [
            "Epoch 1/20\n",
            "1563/1563 [==============================] - 57s 36ms/step - loss: 1.4620 - accuracy: 0.4772\n",
            "Epoch 2/20\n",
            "1563/1563 [==============================] - 55s 35ms/step - loss: 1.1120 - accuracy: 0.6109\n",
            "Epoch 3/20\n",
            "1563/1563 [==============================] - 57s 36ms/step - loss: 0.9872 - accuracy: 0.6569\n",
            "Epoch 4/20\n",
            "1563/1563 [==============================] - 54s 35ms/step - loss: 0.9063 - accuracy: 0.6866\n",
            "Epoch 5/20\n",
            "1563/1563 [==============================] - 56s 36ms/step - loss: 0.8387 - accuracy: 0.7091\n",
            "Epoch 6/20\n",
            "1563/1563 [==============================] - 55s 35ms/step - loss: 0.7839 - accuracy: 0.7289\n",
            "Epoch 7/20\n",
            "1563/1563 [==============================] - 55s 35ms/step - loss: 0.7356 - accuracy: 0.7449\n",
            "Epoch 8/20\n",
            "1563/1563 [==============================] - 55s 36ms/step - loss: 0.6909 - accuracy: 0.7600\n",
            "Epoch 9/20\n",
            "1563/1563 [==============================] - 55s 35ms/step - loss: 0.6524 - accuracy: 0.7737\n",
            "Epoch 10/20\n",
            "1563/1563 [==============================] - 57s 36ms/step - loss: 0.6121 - accuracy: 0.7853\n",
            "Epoch 11/20\n",
            "1563/1563 [==============================] - 57s 36ms/step - loss: 0.5819 - accuracy: 0.7967\n",
            "Epoch 12/20\n",
            "1563/1563 [==============================] - 55s 35ms/step - loss: 0.5481 - accuracy: 0.8070\n",
            "Epoch 13/20\n",
            "1563/1563 [==============================] - 54s 34ms/step - loss: 0.5142 - accuracy: 0.8191\n",
            "Epoch 14/20\n",
            "1563/1563 [==============================] - 53s 34ms/step - loss: 0.4885 - accuracy: 0.8264\n",
            "Epoch 15/20\n",
            "1563/1563 [==============================] - 54s 34ms/step - loss: 0.4628 - accuracy: 0.8393\n",
            "Epoch 16/20\n",
            "1563/1563 [==============================] - 53s 34ms/step - loss: 0.4358 - accuracy: 0.8474\n",
            "Epoch 17/20\n",
            "1563/1563 [==============================] - 54s 34ms/step - loss: 0.4116 - accuracy: 0.8549\n",
            "Epoch 18/20\n",
            "1563/1563 [==============================] - 53s 34ms/step - loss: 0.3876 - accuracy: 0.8631\n",
            "Epoch 19/20\n",
            "1563/1563 [==============================] - 53s 34ms/step - loss: 0.3668 - accuracy: 0.8700\n",
            "Epoch 20/20\n",
            "1563/1563 [==============================] - 54s 34ms/step - loss: 0.3468 - accuracy: 0.8765\n"
          ]
        },
        {
          "data": {
            "text/plain": [
              "<keras.src.callbacks.History at 0x7830a046a140>"
            ]
          },
          "execution_count": 107,
          "metadata": {},
          "output_type": "execute_result"
        }
      ],
      "source": [
        "cnn.fit(X_train, y_train, epochs=20)"
      ]
    },
    {
      "cell_type": "code",
      "execution_count": null,
      "metadata": {
        "colab": {
          "base_uri": "https://localhost:8080/"
        },
        "id": "jqYHrt7t3PDn",
        "outputId": "d91fa5a1-5ccd-474b-d421-ff5928ec5fd6"
      },
      "outputs": [
        {
          "name": "stdout",
          "output_type": "stream",
          "text": [
            "313/313 [==============================] - 4s 11ms/step - loss: 1.7112 - accuracy: 0.6686\n"
          ]
        },
        {
          "data": {
            "text/plain": [
              "[1.7111921310424805, 0.6686000227928162]"
            ]
          },
          "execution_count": 87,
          "metadata": {},
          "output_type": "execute_result"
        }
      ],
      "source": [
        "cnn.evaluate(X_test,y_test)\n"
      ]
    },
    {
      "cell_type": "code",
      "execution_count": null,
      "metadata": {
        "colab": {
          "base_uri": "https://localhost:8080/"
        },
        "id": "ILjIPyLo3eXz",
        "outputId": "a197ebbd-817a-4735-e164-b2b82093f781"
      },
      "outputs": [
        {
          "name": "stdout",
          "output_type": "stream",
          "text": [
            "313/313 [==============================] - 3s 10ms/step\n"
          ]
        },
        {
          "data": {
            "text/plain": [
              "array([[1.8247213e-11, 1.7352880e-09, 3.2968070e-05, 4.8407990e-01,\n",
              "        1.6598791e-03, 3.3711590e-06, 2.0225575e-02, 3.0303660e-10,\n",
              "        4.9399838e-01, 1.7032393e-11],\n",
              "       [3.7423047e-06, 1.8403571e-07, 1.3486591e-10, 4.3562979e-14,\n",
              "        9.9019143e-15, 1.3284469e-17, 2.1302697e-14, 7.7747843e-19,\n",
              "        9.9999589e-01, 7.1907458e-08],\n",
              "       [6.2152594e-01, 9.6563241e-03, 1.9842621e-04, 3.4595121e-04,\n",
              "        8.3853643e-05, 1.6014121e-06, 9.1235142e-06, 6.9198362e-04,\n",
              "        3.5465276e-01, 1.2834009e-02],\n",
              "       [8.2885480e-01, 2.7989508e-08, 4.6554192e-06, 2.1656009e-04,\n",
              "        1.4842414e-09, 2.8384820e-08, 9.0144503e-08, 1.7759943e-13,\n",
              "        1.7092392e-01, 3.6551356e-10],\n",
              "       [7.9640491e-14, 2.9940616e-12, 1.9544696e-05, 5.3813594e-05,\n",
              "        9.3806410e-01, 1.8999980e-07, 6.1862357e-02, 8.4117457e-10,\n",
              "        2.6792438e-10, 1.7660169e-15]], dtype=float32)"
            ]
          },
          "execution_count": 88,
          "metadata": {},
          "output_type": "execute_result"
        }
      ],
      "source": [
        "y_pred = cnn.predict(X_test)\n",
        "y_pred[:5]\n"
      ]
    },
    {
      "cell_type": "code",
      "execution_count": null,
      "metadata": {
        "colab": {
          "base_uri": "https://localhost:8080/"
        },
        "id": "yYebrC1G3gTR",
        "outputId": "dcb0adcd-9427-4ee2-b107-3275aa974ca4"
      },
      "outputs": [
        {
          "data": {
            "text/plain": [
              "[8, 8, 0, 0, 4]"
            ]
          },
          "execution_count": 89,
          "metadata": {},
          "output_type": "execute_result"
        }
      ],
      "source": [
        "y_classes = [np.argmax(element) for element in y_pred]\n",
        "y_classes[:5]"
      ]
    },
    {
      "cell_type": "code",
      "execution_count": null,
      "metadata": {
        "colab": {
          "base_uri": "https://localhost:8080/"
        },
        "id": "GaPKqupW3iF2",
        "outputId": "92283b75-55e3-41db-a15b-e560bccabe5b"
      },
      "outputs": [
        {
          "data": {
            "text/plain": [
              "array([[3],\n",
              "       [8],\n",
              "       [8],\n",
              "       [0],\n",
              "       [6]], dtype=uint8)"
            ]
          },
          "execution_count": 90,
          "metadata": {},
          "output_type": "execute_result"
        }
      ],
      "source": [
        "y_test[:5]"
      ]
    },
    {
      "cell_type": "code",
      "execution_count": null,
      "metadata": {
        "colab": {
          "base_uri": "https://localhost:8080/",
          "height": 237
        },
        "id": "ZksgZ5vs3jmM",
        "outputId": "dd68519d-b95c-46aa-c88a-ad3833304a14"
      },
      "outputs": [
        {
          "data": {
            "image/png": "[encoded data removed]",
            "text/plain": [
              "<Figure size 1500x200 with 1 Axes>"
            ]
          },
          "metadata": {},
          "output_type": "display_data"
        }
      ],
      "source": [
        "plot_sample(X_test, y_test.ravel().astype(int), 100)"
      ]
    },
    {
      "cell_type": "code",
      "execution_count": null,
      "metadata": {
        "colab": {
          "base_uri": "https://localhost:8080/",
          "height": 35
        },
        "id": "MT4w7y0h3kw8",
        "outputId": "839fcf0e-7bfa-493b-ff88-49935c91e8f8"
      },
      "outputs": [
        {
          "data": {
            "application/vnd.google.colaboratory.intrinsic+json": {
              "type": "string"
            },
            "text/plain": [
              "'deer'"
            ]
          },
          "execution_count": 103,
          "metadata": {},
          "output_type": "execute_result"
        }
      ],
      "source": [
        "classes[y_classes[100]]"
      ]
    },
    {
      "cell_type": "code",
      "execution_count": null,
      "metadata": {
        "colab": {
          "base_uri": "https://localhost:8080/"
        },
        "id": "JBs8Gf7nqY8V",
        "outputId": "d69453ab-2f9b-40a7-f8e7-ceb49ad10a9b"
      },
      "outputs": [
        {
          "name": "stdout",
          "output_type": "stream",
          "text": [
            "Classification Reoprt: \n",
            "               precision    recall  f1-score   support\n",
            "\n",
            "           0       0.71      0.70      0.71      1000\n",
            "           1       0.79      0.79      0.79      1000\n",
            "           2       0.56      0.57      0.56      1000\n",
            "           3       0.46      0.51      0.48      1000\n",
            "           4       0.60      0.62      0.61      1000\n",
            "           5       0.61      0.49      0.55      1000\n",
            "           6       0.72      0.77      0.74      1000\n",
            "           7       0.72      0.68      0.70      1000\n",
            "           8       0.77      0.78      0.77      1000\n",
            "           9       0.77      0.76      0.77      1000\n",
            "\n",
            "    accuracy                           0.67     10000\n",
            "   macro avg       0.67      0.67      0.67     10000\n",
            "weighted avg       0.67      0.67      0.67     10000\n",
            "\n"
          ]
        }
      ],
      "source": [
        "print(\"Classification Reoprt: \\n\",classification_report(y_test,y_classes))"
      ]
    },
    {
      "cell_type": "code",
      "execution_count": null,
      "metadata": {
        "colab": {
          "base_uri": "https://localhost:8080/",
          "height": 35
        },
        "id": "PHm_PqUw3t5j",
        "outputId": "531a051d-3978-4f0e-f121-def62d90e2e1"
      },
      "outputs": [
        {
          "data": {
            "application/vnd.google.colaboratory.intrinsic+json": {
              "type": "string"
            },
            "text/plain": [
              "'deer'"
            ]
          },
          "execution_count": 78,
          "metadata": {},
          "output_type": "execute_result"
        }
      ],
      "source": [
        "classes[y_classes[4]]"
      ]
    }
  ],
  "metadata": {
    "colab": {
      "provenance": [],
      "include_colab_link": true
    },
    "kernelspec": {
      "display_name": "Python 3",
      "name": "python3"
    },
    "language_info": {
      "name": "python"
    }
  },
  "nbformat": 4,
  "nbformat_minor": 0
}